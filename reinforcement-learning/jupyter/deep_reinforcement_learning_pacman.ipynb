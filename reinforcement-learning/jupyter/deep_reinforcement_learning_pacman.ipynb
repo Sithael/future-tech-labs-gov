{
  "cells": [
    {
      "cell_type": "markdown",
      "source": [
        "# Deep Reinforcement Learning Pacman Project\n",
        "\n",
        "---\n",
        "\n",
        "---\n",
        "\n",
        "\n",
        "This notebook is devoted to solving game from atari suite, namely MsPacman. \\\n",
        "MsPacman is a continuous state space and discrete action space environment. \\\n",
        "\n",
        "In order to solve the environment you will use the OpenAI Gym API for agent-environment communication and \\\n",
        "Stable-Baselines3 for agent architecture and training\n",
        "\n",
        "OpenAI Gym Doc - [Gym Documentation](https://www.gymlibrary.dev) \\\n",
        "Stable-Baselines3 Doc - [SB3 Documentation](https://stable-baselines3.readthedocs.io/en/master/)\n",
        "\n",
        "---\n",
        "\\\n",
        "***Notebook walkthrough*** \\\n",
        "In the notebook you will find two types of annotated cells\n",
        "\n",
        "```\n",
        "! DO NOT modify cell\n",
        "```\n",
        "this cell purpose is to ensure the code stability and proper installation\n",
        "\n",
        "\n",
        "```\n",
        "@ Implementation cell\n",
        "```\n",
        "this cell is meant for your to implement you solution to the problem stated\n",
        "\n",
        "---\n",
        "\\\n",
        "The notebook is divided into 5 sections \\\n",
        "**section 0** - Visualization tool \\\n",
        "**section 1** - MsPacman Rom Installation \\\n",
        "**section 2** - Environment Instantiation \\\n",
        "**section 3** - Agent Instantiation and Evaluation \\\n",
        "**section 4** - Agent Training \\\n",
        "**section 5** - Saving Model"
      ],
      "metadata": {
        "id": "pG-fytkIGdLh"
      }
    },
    {
      "cell_type": "markdown",
      "source": [
        "# Section 0\n",
        "> Visualization tool\n",
        "\n",
        "\n",
        "Visualization tool to be used in google colab"
      ],
      "metadata": {
        "id": "BCYxbIMMnh9U"
      }
    },
    {
      "cell_type": "markdown",
      "source": [
        "```\n",
        "! DO NOT modify cell\n",
        "```"
      ],
      "metadata": {
        "id": "CBU-7_v_nkgG"
      }
    },
    {
      "cell_type": "code",
      "source": [
        "!apt-get install ffmpeg freeglut3-dev xvfb\n",
        "!pip install pyglet==1.5\n",
        "!pip install stable-baselines3[extra]\n",
        "!pip install sb3-contrib"
      ],
      "metadata": {
        "id": "Vfv-oeJAm9qx",
        "colab": {
          "base_uri": "https://localhost:8080/"
        },
        "outputId": "dc3c6535-994f-430e-d650-8fa309e05cc8"
      },
      "execution_count": 3,
      "outputs": [
        {
          "output_type": "stream",
          "name": "stdout",
          "text": [
            "Reading package lists... Done\n",
            "Building dependency tree       \n",
            "Reading state information... Done\n",
            "ffmpeg is already the newest version (7:3.4.11-0ubuntu0.1).\n",
            "The following package was automatically installed and is no longer required:\n",
            "  libnvidia-common-460\n",
            "Use 'apt autoremove' to remove it.\n",
            "The following NEW packages will be installed:\n",
            "  freeglut3 freeglut3-dev xvfb\n",
            "0 upgraded, 3 newly installed, 0 to remove and 5 not upgraded.\n",
            "Need to get 982 kB of archives.\n",
            "After this operation, 3,350 kB of additional disk space will be used.\n",
            "Get:1 http://archive.ubuntu.com/ubuntu bionic/universe amd64 freeglut3 amd64 2.8.1-3 [73.6 kB]\n",
            "Get:2 http://archive.ubuntu.com/ubuntu bionic/universe amd64 freeglut3-dev amd64 2.8.1-3 [124 kB]\n",
            "Get:3 http://archive.ubuntu.com/ubuntu bionic-updates/universe amd64 xvfb amd64 2:1.19.6-1ubuntu4.11 [785 kB]\n",
            "Fetched 982 kB in 1s (897 kB/s)\n",
            "Selecting previously unselected package freeglut3:amd64.\n",
            "(Reading database ... 123941 files and directories currently installed.)\n",
            "Preparing to unpack .../freeglut3_2.8.1-3_amd64.deb ...\n",
            "Unpacking freeglut3:amd64 (2.8.1-3) ...\n",
            "Selecting previously unselected package freeglut3-dev:amd64.\n",
            "Preparing to unpack .../freeglut3-dev_2.8.1-3_amd64.deb ...\n",
            "Unpacking freeglut3-dev:amd64 (2.8.1-3) ...\n",
            "Selecting previously unselected package xvfb.\n",
            "Preparing to unpack .../xvfb_2%3a1.19.6-1ubuntu4.11_amd64.deb ...\n",
            "Unpacking xvfb (2:1.19.6-1ubuntu4.11) ...\n",
            "Setting up freeglut3:amd64 (2.8.1-3) ...\n",
            "Setting up xvfb (2:1.19.6-1ubuntu4.11) ...\n",
            "Setting up freeglut3-dev:amd64 (2.8.1-3) ...\n",
            "Processing triggers for man-db (2.8.3-2ubuntu0.1) ...\n",
            "Processing triggers for libc-bin (2.27-3ubuntu1.6) ...\n",
            "Looking in indexes: https://pypi.org/simple, https://us-python.pkg.dev/colab-wheels/public/simple/\n",
            "Collecting pyglet==1.5\n",
            "  Downloading pyglet-1.5.0-py2.py3-none-any.whl (1.0 MB)\n",
            "\u001b[K     |████████████████████████████████| 1.0 MB 5.2 MB/s \n",
            "\u001b[?25hRequirement already satisfied: future in /usr/local/lib/python3.7/dist-packages (from pyglet==1.5) (0.16.0)\n",
            "Installing collected packages: pyglet\n",
            "Successfully installed pyglet-1.5.0\n",
            "Looking in indexes: https://pypi.org/simple, https://us-python.pkg.dev/colab-wheels/public/simple/\n",
            "Collecting stable-baselines3[extra]\n",
            "  Downloading stable_baselines3-1.6.2-py3-none-any.whl (170 kB)\n",
            "\u001b[K     |████████████████████████████████| 170 kB 4.9 MB/s \n",
            "\u001b[?25hCollecting gym==0.21\n",
            "  Downloading gym-0.21.0.tar.gz (1.5 MB)\n",
            "\u001b[K     |████████████████████████████████| 1.5 MB 51.5 MB/s \n",
            "\u001b[?25hRequirement already satisfied: torch>=1.11 in /usr/local/lib/python3.7/dist-packages (from stable-baselines3[extra]) (1.12.1+cu113)\n",
            "Requirement already satisfied: numpy in /usr/local/lib/python3.7/dist-packages (from stable-baselines3[extra]) (1.21.6)\n",
            "Requirement already satisfied: importlib-metadata~=4.13 in /usr/local/lib/python3.7/dist-packages (from stable-baselines3[extra]) (4.13.0)\n",
            "Requirement already satisfied: cloudpickle in /usr/local/lib/python3.7/dist-packages (from stable-baselines3[extra]) (1.5.0)\n",
            "Requirement already satisfied: matplotlib in /usr/local/lib/python3.7/dist-packages (from stable-baselines3[extra]) (3.2.2)\n",
            "Requirement already satisfied: pandas in /usr/local/lib/python3.7/dist-packages (from stable-baselines3[extra]) (1.3.5)\n",
            "Collecting rich\n",
            "  Downloading rich-12.6.0-py3-none-any.whl (237 kB)\n",
            "\u001b[K     |████████████████████████████████| 237 kB 57.5 MB/s \n",
            "\u001b[?25hRequirement already satisfied: pillow in /usr/local/lib/python3.7/dist-packages (from stable-baselines3[extra]) (7.1.2)\n",
            "Requirement already satisfied: psutil in /usr/local/lib/python3.7/dist-packages (from stable-baselines3[extra]) (5.4.8)\n",
            "Requirement already satisfied: opencv-python in /usr/local/lib/python3.7/dist-packages (from stable-baselines3[extra]) (4.6.0.66)\n",
            "Collecting autorom[accept-rom-license]~=0.4.2\n",
            "  Downloading AutoROM-0.4.2-py3-none-any.whl (16 kB)\n",
            "Collecting ale-py==0.7.4\n",
            "  Downloading ale_py-0.7.4-cp37-cp37m-manylinux_2_17_x86_64.manylinux2014_x86_64.whl (1.6 MB)\n",
            "\u001b[K     |████████████████████████████████| 1.6 MB 34.6 MB/s \n",
            "\u001b[?25hRequirement already satisfied: tqdm in /usr/local/lib/python3.7/dist-packages (from stable-baselines3[extra]) (4.64.1)\n",
            "Requirement already satisfied: tensorboard>=2.9.1 in /usr/local/lib/python3.7/dist-packages (from stable-baselines3[extra]) (2.9.1)\n",
            "Requirement already satisfied: importlib-resources in /usr/local/lib/python3.7/dist-packages (from ale-py==0.7.4->stable-baselines3[extra]) (5.10.0)\n",
            "Requirement already satisfied: click in /usr/local/lib/python3.7/dist-packages (from autorom[accept-rom-license]~=0.4.2->stable-baselines3[extra]) (7.1.2)\n",
            "Requirement already satisfied: requests in /usr/local/lib/python3.7/dist-packages (from autorom[accept-rom-license]~=0.4.2->stable-baselines3[extra]) (2.23.0)\n",
            "Collecting AutoROM.accept-rom-license\n",
            "  Downloading AutoROM.accept-rom-license-0.4.2.tar.gz (9.8 kB)\n",
            "  Installing build dependencies ... \u001b[?25l\u001b[?25hdone\n",
            "  Getting requirements to build wheel ... \u001b[?25l\u001b[?25hdone\n",
            "    Preparing wheel metadata ... \u001b[?25l\u001b[?25hdone\n",
            "Requirement already satisfied: typing-extensions>=3.6.4 in /usr/local/lib/python3.7/dist-packages (from importlib-metadata~=4.13->stable-baselines3[extra]) (4.1.1)\n",
            "Requirement already satisfied: zipp>=0.5 in /usr/local/lib/python3.7/dist-packages (from importlib-metadata~=4.13->stable-baselines3[extra]) (3.10.0)\n",
            "Requirement already satisfied: grpcio>=1.24.3 in /usr/local/lib/python3.7/dist-packages (from tensorboard>=2.9.1->stable-baselines3[extra]) (1.50.0)\n",
            "Requirement already satisfied: markdown>=2.6.8 in /usr/local/lib/python3.7/dist-packages (from tensorboard>=2.9.1->stable-baselines3[extra]) (3.4.1)\n",
            "Requirement already satisfied: tensorboard-data-server<0.7.0,>=0.6.0 in /usr/local/lib/python3.7/dist-packages (from tensorboard>=2.9.1->stable-baselines3[extra]) (0.6.1)\n",
            "Requirement already satisfied: google-auth-oauthlib<0.5,>=0.4.1 in /usr/local/lib/python3.7/dist-packages (from tensorboard>=2.9.1->stable-baselines3[extra]) (0.4.6)\n",
            "Requirement already satisfied: google-auth<3,>=1.6.3 in /usr/local/lib/python3.7/dist-packages (from tensorboard>=2.9.1->stable-baselines3[extra]) (1.35.0)\n",
            "Requirement already satisfied: setuptools>=41.0.0 in /usr/local/lib/python3.7/dist-packages (from tensorboard>=2.9.1->stable-baselines3[extra]) (57.4.0)\n",
            "Requirement already satisfied: wheel>=0.26 in /usr/local/lib/python3.7/dist-packages (from tensorboard>=2.9.1->stable-baselines3[extra]) (0.37.1)\n",
            "Requirement already satisfied: protobuf<3.20,>=3.9.2 in /usr/local/lib/python3.7/dist-packages (from tensorboard>=2.9.1->stable-baselines3[extra]) (3.17.3)\n",
            "Requirement already satisfied: tensorboard-plugin-wit>=1.6.0 in /usr/local/lib/python3.7/dist-packages (from tensorboard>=2.9.1->stable-baselines3[extra]) (1.8.1)\n",
            "Requirement already satisfied: absl-py>=0.4 in /usr/local/lib/python3.7/dist-packages (from tensorboard>=2.9.1->stable-baselines3[extra]) (1.3.0)\n",
            "Requirement already satisfied: werkzeug>=1.0.1 in /usr/local/lib/python3.7/dist-packages (from tensorboard>=2.9.1->stable-baselines3[extra]) (1.0.1)\n",
            "Requirement already satisfied: pyasn1-modules>=0.2.1 in /usr/local/lib/python3.7/dist-packages (from google-auth<3,>=1.6.3->tensorboard>=2.9.1->stable-baselines3[extra]) (0.2.8)\n",
            "Requirement already satisfied: six>=1.9.0 in /usr/local/lib/python3.7/dist-packages (from google-auth<3,>=1.6.3->tensorboard>=2.9.1->stable-baselines3[extra]) (1.15.0)\n",
            "Requirement already satisfied: cachetools<5.0,>=2.0.0 in /usr/local/lib/python3.7/dist-packages (from google-auth<3,>=1.6.3->tensorboard>=2.9.1->stable-baselines3[extra]) (4.2.4)\n",
            "Requirement already satisfied: rsa<5,>=3.1.4 in /usr/local/lib/python3.7/dist-packages (from google-auth<3,>=1.6.3->tensorboard>=2.9.1->stable-baselines3[extra]) (4.9)\n",
            "Requirement already satisfied: requests-oauthlib>=0.7.0 in /usr/local/lib/python3.7/dist-packages (from google-auth-oauthlib<0.5,>=0.4.1->tensorboard>=2.9.1->stable-baselines3[extra]) (1.3.1)\n",
            "Requirement already satisfied: pyasn1<0.5.0,>=0.4.6 in /usr/local/lib/python3.7/dist-packages (from pyasn1-modules>=0.2.1->google-auth<3,>=1.6.3->tensorboard>=2.9.1->stable-baselines3[extra]) (0.4.8)\n",
            "Requirement already satisfied: certifi>=2017.4.17 in /usr/local/lib/python3.7/dist-packages (from requests->autorom[accept-rom-license]~=0.4.2->stable-baselines3[extra]) (2022.9.24)\n",
            "Requirement already satisfied: urllib3!=1.25.0,!=1.25.1,<1.26,>=1.21.1 in /usr/local/lib/python3.7/dist-packages (from requests->autorom[accept-rom-license]~=0.4.2->stable-baselines3[extra]) (1.24.3)\n",
            "Requirement already satisfied: chardet<4,>=3.0.2 in /usr/local/lib/python3.7/dist-packages (from requests->autorom[accept-rom-license]~=0.4.2->stable-baselines3[extra]) (3.0.4)\n",
            "Requirement already satisfied: idna<3,>=2.5 in /usr/local/lib/python3.7/dist-packages (from requests->autorom[accept-rom-license]~=0.4.2->stable-baselines3[extra]) (2.10)\n",
            "Requirement already satisfied: oauthlib>=3.0.0 in /usr/local/lib/python3.7/dist-packages (from requests-oauthlib>=0.7.0->google-auth-oauthlib<0.5,>=0.4.1->tensorboard>=2.9.1->stable-baselines3[extra]) (3.2.2)\n",
            "Requirement already satisfied: python-dateutil>=2.1 in /usr/local/lib/python3.7/dist-packages (from matplotlib->stable-baselines3[extra]) (2.8.2)\n",
            "Requirement already satisfied: kiwisolver>=1.0.1 in /usr/local/lib/python3.7/dist-packages (from matplotlib->stable-baselines3[extra]) (1.4.4)\n",
            "Requirement already satisfied: pyparsing!=2.0.4,!=2.1.2,!=2.1.6,>=2.0.1 in /usr/local/lib/python3.7/dist-packages (from matplotlib->stable-baselines3[extra]) (3.0.9)\n",
            "Requirement already satisfied: cycler>=0.10 in /usr/local/lib/python3.7/dist-packages (from matplotlib->stable-baselines3[extra]) (0.11.0)\n",
            "Requirement already satisfied: pytz>=2017.3 in /usr/local/lib/python3.7/dist-packages (from pandas->stable-baselines3[extra]) (2022.5)\n",
            "Collecting commonmark<0.10.0,>=0.9.0\n",
            "  Downloading commonmark-0.9.1-py2.py3-none-any.whl (51 kB)\n",
            "\u001b[K     |████████████████████████████████| 51 kB 6.4 MB/s \n",
            "\u001b[?25hRequirement already satisfied: pygments<3.0.0,>=2.6.0 in /usr/local/lib/python3.7/dist-packages (from rich->stable-baselines3[extra]) (2.6.1)\n",
            "Building wheels for collected packages: gym, AutoROM.accept-rom-license\n",
            "  Building wheel for gym (setup.py) ... \u001b[?25l\u001b[?25hdone\n",
            "  Created wheel for gym: filename=gym-0.21.0-py3-none-any.whl size=1616823 sha256=202581b8e72509ef79e92474ed23d8641c54fa87c91e4c48113428cba22adf7a\n",
            "  Stored in directory: /root/.cache/pip/wheels/76/ee/9c/36bfe3e079df99acf5ae57f4e3464ff2771b34447d6d2f2148\n",
            "  Building wheel for AutoROM.accept-rom-license (PEP 517) ... \u001b[?25l\u001b[?25hdone\n",
            "  Created wheel for AutoROM.accept-rom-license: filename=AutoROM.accept_rom_license-0.4.2-py3-none-any.whl size=441027 sha256=05ac743b5cc3c6d07c1e92b3970170bdc1dd519841620d9a87e2b9eae8b15ac0\n",
            "  Stored in directory: /root/.cache/pip/wheels/87/67/2e/6147e7912fe37f5408b80d07527dab807c1d25f5c403a9538a\n",
            "Successfully built gym AutoROM.accept-rom-license\n",
            "Installing collected packages: gym, commonmark, AutoROM.accept-rom-license, autorom, stable-baselines3, rich, ale-py\n",
            "  Attempting uninstall: gym\n",
            "    Found existing installation: gym 0.25.2\n",
            "    Uninstalling gym-0.25.2:\n",
            "      Successfully uninstalled gym-0.25.2\n",
            "Successfully installed AutoROM.accept-rom-license-0.4.2 ale-py-0.7.4 autorom-0.4.2 commonmark-0.9.1 gym-0.21.0 rich-12.6.0 stable-baselines3-1.6.2\n",
            "Looking in indexes: https://pypi.org/simple, https://us-python.pkg.dev/colab-wheels/public/simple/\n",
            "Collecting sb3-contrib\n",
            "  Downloading sb3_contrib-1.6.2-py3-none-any.whl (79 kB)\n",
            "\u001b[K     |████████████████████████████████| 79 kB 3.3 MB/s \n",
            "\u001b[?25hRequirement already satisfied: stable-baselines3>=1.6.2 in /usr/local/lib/python3.7/dist-packages (from sb3-contrib) (1.6.2)\n",
            "Requirement already satisfied: numpy in /usr/local/lib/python3.7/dist-packages (from stable-baselines3>=1.6.2->sb3-contrib) (1.21.6)\n",
            "Requirement already satisfied: importlib-metadata~=4.13 in /usr/local/lib/python3.7/dist-packages (from stable-baselines3>=1.6.2->sb3-contrib) (4.13.0)\n",
            "Requirement already satisfied: gym==0.21 in /usr/local/lib/python3.7/dist-packages (from stable-baselines3>=1.6.2->sb3-contrib) (0.21.0)\n",
            "Requirement already satisfied: torch>=1.11 in /usr/local/lib/python3.7/dist-packages (from stable-baselines3>=1.6.2->sb3-contrib) (1.12.1+cu113)\n",
            "Requirement already satisfied: cloudpickle in /usr/local/lib/python3.7/dist-packages (from stable-baselines3>=1.6.2->sb3-contrib) (1.5.0)\n",
            "Requirement already satisfied: pandas in /usr/local/lib/python3.7/dist-packages (from stable-baselines3>=1.6.2->sb3-contrib) (1.3.5)\n",
            "Requirement already satisfied: matplotlib in /usr/local/lib/python3.7/dist-packages (from stable-baselines3>=1.6.2->sb3-contrib) (3.2.2)\n",
            "Requirement already satisfied: typing-extensions>=3.6.4 in /usr/local/lib/python3.7/dist-packages (from importlib-metadata~=4.13->stable-baselines3>=1.6.2->sb3-contrib) (4.1.1)\n",
            "Requirement already satisfied: zipp>=0.5 in /usr/local/lib/python3.7/dist-packages (from importlib-metadata~=4.13->stable-baselines3>=1.6.2->sb3-contrib) (3.10.0)\n",
            "Requirement already satisfied: python-dateutil>=2.1 in /usr/local/lib/python3.7/dist-packages (from matplotlib->stable-baselines3>=1.6.2->sb3-contrib) (2.8.2)\n",
            "Requirement already satisfied: kiwisolver>=1.0.1 in /usr/local/lib/python3.7/dist-packages (from matplotlib->stable-baselines3>=1.6.2->sb3-contrib) (1.4.4)\n",
            "Requirement already satisfied: cycler>=0.10 in /usr/local/lib/python3.7/dist-packages (from matplotlib->stable-baselines3>=1.6.2->sb3-contrib) (0.11.0)\n",
            "Requirement already satisfied: pyparsing!=2.0.4,!=2.1.2,!=2.1.6,>=2.0.1 in /usr/local/lib/python3.7/dist-packages (from matplotlib->stable-baselines3>=1.6.2->sb3-contrib) (3.0.9)\n",
            "Requirement already satisfied: six>=1.5 in /usr/local/lib/python3.7/dist-packages (from python-dateutil>=2.1->matplotlib->stable-baselines3>=1.6.2->sb3-contrib) (1.15.0)\n",
            "Requirement already satisfied: pytz>=2017.3 in /usr/local/lib/python3.7/dist-packages (from pandas->stable-baselines3>=1.6.2->sb3-contrib) (2022.5)\n",
            "Installing collected packages: sb3-contrib\n",
            "Successfully installed sb3-contrib-1.6.2\n"
          ]
        }
      ]
    },
    {
      "cell_type": "markdown",
      "source": [
        "## Set Fake Display\n",
        "\n",
        "---\n",
        "\n",
        "\n",
        "Set up fake display; otherwise rendering will fail"
      ],
      "metadata": {
        "id": "lOFlrT3snsOm"
      }
    },
    {
      "cell_type": "markdown",
      "source": [
        "```\n",
        "! DO NOT modify cell\n",
        "```"
      ],
      "metadata": {
        "id": "fUbDoGgenqO_"
      }
    },
    {
      "cell_type": "code",
      "source": [
        "import pyglet\n",
        "import os\n",
        "\n",
        "os.system(\"Xvfb :1 -screen 0 1024x768x24 &\")\n",
        "os.environ['DISPLAY'] = ':1'"
      ],
      "metadata": {
        "id": "SHhwQn_Nnm9K"
      },
      "execution_count": 4,
      "outputs": []
    },
    {
      "cell_type": "markdown",
      "source": [
        "## Agent Recording\n",
        "\n",
        "---\n",
        "\n",
        "Record agent performance"
      ],
      "metadata": {
        "id": "mSGTDm88nzHw"
      }
    },
    {
      "cell_type": "markdown",
      "source": [
        "```\n",
        "! DO NOT modify cell\n",
        "```"
      ],
      "metadata": {
        "id": "GgxnQM3Hnwx_"
      }
    },
    {
      "cell_type": "code",
      "source": [
        "from stable_baselines3.common.vec_env import VecVideoRecorder, DummyVecEnv\n",
        "\n",
        "def record_agent(env_id, model, video_length=500, prefix='', video_folder='videos/'):\n",
        "  \"\"\"\n",
        "  :param env_id: (str)\n",
        "  :param model: (RL model)\n",
        "  :param video_length: (int)\n",
        "  :param prefix: (str)\n",
        "  :param video_folder: (str)\n",
        "  \"\"\"\n",
        "  eval_env = DummyVecEnv([lambda: gym.make(env_id)])\n",
        "  # Start the video at step=0 and record 500 steps\n",
        "  eval_env = VecVideoRecorder(eval_env, video_folder=video_folder,\n",
        "                              record_video_trigger=lambda step: step == 0, video_length=video_length,\n",
        "                              name_prefix=prefix)\n",
        "\n",
        "  obs = eval_env.reset()\n",
        "  for _ in range(video_length):\n",
        "    action, _ = model.predict(obs)\n",
        "    obs, _, _, _ = eval_env.step(action)\n",
        "\n",
        "  # Close the video recorder\n",
        "  eval_env.close()"
      ],
      "metadata": {
        "id": "dqVzIF9RnuIA"
      },
      "execution_count": 5,
      "outputs": []
    },
    {
      "cell_type": "markdown",
      "source": [
        "## Implement Agent Display\n",
        "\n",
        "---\n",
        "\n",
        "Display agent Performance"
      ],
      "metadata": {
        "id": "Qnqdbi-mn8Db"
      }
    },
    {
      "cell_type": "markdown",
      "source": [
        "```\n",
        "! DO NOT modify cell\n",
        "```"
      ],
      "metadata": {
        "id": "dsAgPYxMn7Mu"
      }
    },
    {
      "cell_type": "code",
      "source": [
        "import base64\n",
        "from pathlib import Path\n",
        "\n",
        "from IPython import display as ipythondisplay\n",
        "\n",
        "def show_agent_video(video_path='', prefix=''):\n",
        "  \"\"\"\n",
        "  Taken from https://github.com/eleurent/highway-env\n",
        "\n",
        "  :param video_path: (str) Path to the folder containing videos\n",
        "  :param prefix: (str) Filter the video, showing only the only starting with this prefix\n",
        "  \"\"\"\n",
        "  html = []\n",
        "  for mp4 in Path(video_path).glob(\"{}*.mp4\".format(prefix)):\n",
        "      video_b64 = base64.b64encode(mp4.read_bytes())\n",
        "      html.append('''<video alt=\"{}\" autoplay \n",
        "                    loop controls style=\"height: 400px;\">\n",
        "                    <source src=\"data:video/mp4;base64,{}\" type=\"video/mp4\" />\n",
        "                </video>'''.format(mp4, video_b64.decode('ascii')))\n",
        "  ipythondisplay.display(ipythondisplay.HTML(data=\"<br>\".join(html)))"
      ],
      "metadata": {
        "id": "3EvK4Q2fn2LI"
      },
      "execution_count": 6,
      "outputs": []
    },
    {
      "cell_type": "markdown",
      "source": [
        "# Section 1\n",
        "> ## MsPacman ROM Installation\n",
        "\n",
        "\n",
        "\n",
        "\n",
        "Since the new version of atari suite requires AutoRom to load game binaries \\\n",
        "it is required to locate the roms in the operating system and use ALE interface to register them as gym environemnt"
      ],
      "metadata": {
        "id": "F9XjZwq6HZ3f"
      }
    },
    {
      "cell_type": "markdown",
      "source": [
        "## Install AutoRom\n",
        "\n",
        "---\n",
        "\n",
        "\n",
        "Install required package and locate atari binaries"
      ],
      "metadata": {
        "id": "B9NRYDfVOe5D"
      }
    },
    {
      "cell_type": "markdown",
      "source": [
        "```\n",
        "! DO NOT modify cell\n",
        "```"
      ],
      "metadata": {
        "id": "Dgjfwj1rNWjy"
      }
    },
    {
      "cell_type": "code",
      "execution_count": null,
      "metadata": {
        "id": "-u7MXfmHSJzV"
      },
      "outputs": [],
      "source": [
        "!pip install autorom\n",
        "!AutoROM --accept-license"
      ]
    },
    {
      "cell_type": "markdown",
      "source": [
        "```\n",
        "! DO NOT modify cell\n",
        "```"
      ],
      "metadata": {
        "id": "h7yTmIW4NYaR"
      }
    },
    {
      "cell_type": "markdown",
      "source": [
        "```\n",
        "! DO NOT modify cell\n",
        "```"
      ],
      "metadata": {
        "id": "qjouPOO4NqUt"
      }
    },
    {
      "cell_type": "code",
      "source": [
        "!pip install ale-py\n",
        "!ale-import-roms /usr/local/lib/python3.7/dist-packages/AutoROM/roms"
      ],
      "metadata": {
        "id": "y8cy-iSSLO20"
      },
      "execution_count": null,
      "outputs": []
    },
    {
      "cell_type": "markdown",
      "source": [
        "```\n",
        "! DO NOT modify cell\n",
        "```"
      ],
      "metadata": {
        "id": "zIzzaG0_NrsN"
      }
    },
    {
      "cell_type": "code",
      "source": [
        "!pip install gym[atari,accept-rom-license]"
      ],
      "metadata": {
        "id": "_mmsR913LSk5"
      },
      "execution_count": null,
      "outputs": []
    },
    {
      "cell_type": "code",
      "source": [
        "!pip install stable-baselines3[extra]\n",
        "# Optional: install SB3 contrib to have access to additional algorithms\n",
        "!pip install sb3-contrib"
      ],
      "metadata": {
        "colab": {
          "base_uri": "https://localhost:8080/",
          "height": 1000
        },
        "id": "EebDBMSkVdCR",
        "outputId": "f5c0e086-f489-45df-8cf6-f119eacf6594"
      },
      "execution_count": null,
      "outputs": [
        {
          "output_type": "stream",
          "name": "stdout",
          "text": [
            "Looking in indexes: https://pypi.org/simple, https://us-python.pkg.dev/colab-wheels/public/simple/\n",
            "Collecting stable-baselines3[extra]\n",
            "  Downloading stable_baselines3-1.6.2-py3-none-any.whl (170 kB)\n",
            "\u001b[K     |████████████████████████████████| 170 kB 4.8 MB/s \n",
            "\u001b[?25hRequirement already satisfied: numpy in /usr/local/lib/python3.7/dist-packages (from stable-baselines3[extra]) (1.21.6)\n",
            "Requirement already satisfied: torch>=1.11 in /usr/local/lib/python3.7/dist-packages (from stable-baselines3[extra]) (1.12.1+cu113)\n",
            "Requirement already satisfied: cloudpickle in /usr/local/lib/python3.7/dist-packages (from stable-baselines3[extra]) (1.5.0)\n",
            "Collecting gym==0.21\n",
            "  Downloading gym-0.21.0.tar.gz (1.5 MB)\n",
            "\u001b[K     |████████████████████████████████| 1.5 MB 50.2 MB/s \n",
            "\u001b[?25hRequirement already satisfied: matplotlib in /usr/local/lib/python3.7/dist-packages (from stable-baselines3[extra]) (3.2.2)\n",
            "Requirement already satisfied: importlib-metadata~=4.13 in /usr/local/lib/python3.7/dist-packages (from stable-baselines3[extra]) (4.13.0)\n",
            "Requirement already satisfied: pandas in /usr/local/lib/python3.7/dist-packages (from stable-baselines3[extra]) (1.3.5)\n",
            "Requirement already satisfied: tqdm in /usr/local/lib/python3.7/dist-packages (from stable-baselines3[extra]) (4.64.1)\n",
            "Collecting rich\n",
            "  Downloading rich-12.6.0-py3-none-any.whl (237 kB)\n",
            "\u001b[K     |████████████████████████████████| 237 kB 45.0 MB/s \n",
            "\u001b[?25hRequirement already satisfied: tensorboard>=2.9.1 in /usr/local/lib/python3.7/dist-packages (from stable-baselines3[extra]) (2.9.1)\n",
            "Collecting ale-py==0.7.4\n",
            "  Downloading ale_py-0.7.4-cp37-cp37m-manylinux_2_17_x86_64.manylinux2014_x86_64.whl (1.6 MB)\n",
            "\u001b[K     |████████████████████████████████| 1.6 MB 52.1 MB/s \n",
            "\u001b[?25hRequirement already satisfied: pillow in /usr/local/lib/python3.7/dist-packages (from stable-baselines3[extra]) (7.1.2)\n",
            "Requirement already satisfied: opencv-python in /usr/local/lib/python3.7/dist-packages (from stable-baselines3[extra]) (4.6.0.66)\n",
            "Requirement already satisfied: psutil in /usr/local/lib/python3.7/dist-packages (from stable-baselines3[extra]) (5.4.8)\n",
            "Requirement already satisfied: autorom[accept-rom-license]~=0.4.2 in /usr/local/lib/python3.7/dist-packages (from stable-baselines3[extra]) (0.4.2)\n",
            "Requirement already satisfied: importlib-resources in /usr/local/lib/python3.7/dist-packages (from ale-py==0.7.4->stable-baselines3[extra]) (5.10.0)\n",
            "Requirement already satisfied: click in /usr/local/lib/python3.7/dist-packages (from autorom[accept-rom-license]~=0.4.2->stable-baselines3[extra]) (7.1.2)\n",
            "Requirement already satisfied: requests in /usr/local/lib/python3.7/dist-packages (from autorom[accept-rom-license]~=0.4.2->stable-baselines3[extra]) (2.23.0)\n",
            "Requirement already satisfied: AutoROM.accept-rom-license in /usr/local/lib/python3.7/dist-packages (from autorom[accept-rom-license]~=0.4.2->stable-baselines3[extra]) (0.4.2)\n",
            "Requirement already satisfied: typing-extensions>=3.6.4 in /usr/local/lib/python3.7/dist-packages (from importlib-metadata~=4.13->stable-baselines3[extra]) (4.1.1)\n",
            "Requirement already satisfied: zipp>=0.5 in /usr/local/lib/python3.7/dist-packages (from importlib-metadata~=4.13->stable-baselines3[extra]) (3.10.0)\n",
            "Requirement already satisfied: google-auth-oauthlib<0.5,>=0.4.1 in /usr/local/lib/python3.7/dist-packages (from tensorboard>=2.9.1->stable-baselines3[extra]) (0.4.6)\n",
            "Requirement already satisfied: protobuf<3.20,>=3.9.2 in /usr/local/lib/python3.7/dist-packages (from tensorboard>=2.9.1->stable-baselines3[extra]) (3.17.3)\n",
            "Requirement already satisfied: setuptools>=41.0.0 in /usr/local/lib/python3.7/dist-packages (from tensorboard>=2.9.1->stable-baselines3[extra]) (57.4.0)\n",
            "Requirement already satisfied: tensorboard-plugin-wit>=1.6.0 in /usr/local/lib/python3.7/dist-packages (from tensorboard>=2.9.1->stable-baselines3[extra]) (1.8.1)\n",
            "Requirement already satisfied: tensorboard-data-server<0.7.0,>=0.6.0 in /usr/local/lib/python3.7/dist-packages (from tensorboard>=2.9.1->stable-baselines3[extra]) (0.6.1)\n",
            "Requirement already satisfied: markdown>=2.6.8 in /usr/local/lib/python3.7/dist-packages (from tensorboard>=2.9.1->stable-baselines3[extra]) (3.4.1)\n",
            "Requirement already satisfied: google-auth<3,>=1.6.3 in /usr/local/lib/python3.7/dist-packages (from tensorboard>=2.9.1->stable-baselines3[extra]) (1.35.0)\n",
            "Requirement already satisfied: absl-py>=0.4 in /usr/local/lib/python3.7/dist-packages (from tensorboard>=2.9.1->stable-baselines3[extra]) (1.3.0)\n",
            "Requirement already satisfied: grpcio>=1.24.3 in /usr/local/lib/python3.7/dist-packages (from tensorboard>=2.9.1->stable-baselines3[extra]) (1.50.0)\n",
            "Requirement already satisfied: werkzeug>=1.0.1 in /usr/local/lib/python3.7/dist-packages (from tensorboard>=2.9.1->stable-baselines3[extra]) (1.0.1)\n",
            "Requirement already satisfied: wheel>=0.26 in /usr/local/lib/python3.7/dist-packages (from tensorboard>=2.9.1->stable-baselines3[extra]) (0.37.1)\n",
            "Requirement already satisfied: pyasn1-modules>=0.2.1 in /usr/local/lib/python3.7/dist-packages (from google-auth<3,>=1.6.3->tensorboard>=2.9.1->stable-baselines3[extra]) (0.2.8)\n",
            "Requirement already satisfied: cachetools<5.0,>=2.0.0 in /usr/local/lib/python3.7/dist-packages (from google-auth<3,>=1.6.3->tensorboard>=2.9.1->stable-baselines3[extra]) (4.2.4)\n",
            "Requirement already satisfied: rsa<5,>=3.1.4 in /usr/local/lib/python3.7/dist-packages (from google-auth<3,>=1.6.3->tensorboard>=2.9.1->stable-baselines3[extra]) (4.9)\n",
            "Requirement already satisfied: six>=1.9.0 in /usr/local/lib/python3.7/dist-packages (from google-auth<3,>=1.6.3->tensorboard>=2.9.1->stable-baselines3[extra]) (1.15.0)\n",
            "Requirement already satisfied: requests-oauthlib>=0.7.0 in /usr/local/lib/python3.7/dist-packages (from google-auth-oauthlib<0.5,>=0.4.1->tensorboard>=2.9.1->stable-baselines3[extra]) (1.3.1)\n",
            "Requirement already satisfied: pyasn1<0.5.0,>=0.4.6 in /usr/local/lib/python3.7/dist-packages (from pyasn1-modules>=0.2.1->google-auth<3,>=1.6.3->tensorboard>=2.9.1->stable-baselines3[extra]) (0.4.8)\n",
            "Requirement already satisfied: urllib3!=1.25.0,!=1.25.1,<1.26,>=1.21.1 in /usr/local/lib/python3.7/dist-packages (from requests->autorom[accept-rom-license]~=0.4.2->stable-baselines3[extra]) (1.24.3)\n",
            "Requirement already satisfied: idna<3,>=2.5 in /usr/local/lib/python3.7/dist-packages (from requests->autorom[accept-rom-license]~=0.4.2->stable-baselines3[extra]) (2.10)\n",
            "Requirement already satisfied: chardet<4,>=3.0.2 in /usr/local/lib/python3.7/dist-packages (from requests->autorom[accept-rom-license]~=0.4.2->stable-baselines3[extra]) (3.0.4)\n",
            "Requirement already satisfied: certifi>=2017.4.17 in /usr/local/lib/python3.7/dist-packages (from requests->autorom[accept-rom-license]~=0.4.2->stable-baselines3[extra]) (2022.9.24)\n",
            "Requirement already satisfied: oauthlib>=3.0.0 in /usr/local/lib/python3.7/dist-packages (from requests-oauthlib>=0.7.0->google-auth-oauthlib<0.5,>=0.4.1->tensorboard>=2.9.1->stable-baselines3[extra]) (3.2.2)\n",
            "Requirement already satisfied: pyparsing!=2.0.4,!=2.1.2,!=2.1.6,>=2.0.1 in /usr/local/lib/python3.7/dist-packages (from matplotlib->stable-baselines3[extra]) (3.0.9)\n",
            "Requirement already satisfied: kiwisolver>=1.0.1 in /usr/local/lib/python3.7/dist-packages (from matplotlib->stable-baselines3[extra]) (1.4.4)\n",
            "Requirement already satisfied: python-dateutil>=2.1 in /usr/local/lib/python3.7/dist-packages (from matplotlib->stable-baselines3[extra]) (2.8.2)\n",
            "Requirement already satisfied: cycler>=0.10 in /usr/local/lib/python3.7/dist-packages (from matplotlib->stable-baselines3[extra]) (0.11.0)\n",
            "Requirement already satisfied: pytz>=2017.3 in /usr/local/lib/python3.7/dist-packages (from pandas->stable-baselines3[extra]) (2022.5)\n",
            "Requirement already satisfied: pygments<3.0.0,>=2.6.0 in /usr/local/lib/python3.7/dist-packages (from rich->stable-baselines3[extra]) (2.6.1)\n",
            "Collecting commonmark<0.10.0,>=0.9.0\n",
            "  Downloading commonmark-0.9.1-py2.py3-none-any.whl (51 kB)\n",
            "\u001b[K     |████████████████████████████████| 51 kB 7.1 MB/s \n",
            "\u001b[?25hBuilding wheels for collected packages: gym\n",
            "  Building wheel for gym (setup.py) ... \u001b[?25l\u001b[?25hdone\n",
            "  Created wheel for gym: filename=gym-0.21.0-py3-none-any.whl size=1616825 sha256=8e7c26ec09d2d747ebc55f7694826520b95b38ee02ca47543e9923f07d3d6cdf\n",
            "  Stored in directory: /root/.cache/pip/wheels/76/ee/9c/36bfe3e079df99acf5ae57f4e3464ff2771b34447d6d2f2148\n",
            "Successfully built gym\n",
            "Installing collected packages: gym, commonmark, stable-baselines3, rich, ale-py\n",
            "  Attempting uninstall: gym\n",
            "    Found existing installation: gym 0.25.2\n",
            "    Uninstalling gym-0.25.2:\n",
            "      Successfully uninstalled gym-0.25.2\n",
            "  Attempting uninstall: ale-py\n",
            "    Found existing installation: ale-py 0.7.5\n",
            "    Uninstalling ale-py-0.7.5:\n",
            "      Successfully uninstalled ale-py-0.7.5\n",
            "Successfully installed ale-py-0.7.4 commonmark-0.9.1 gym-0.21.0 rich-12.6.0 stable-baselines3-1.6.2\n"
          ]
        },
        {
          "output_type": "display_data",
          "data": {
            "application/vnd.colab-display-data+json": {
              "pip_warning": {
                "packages": [
                  "ale_py",
                  "gym"
                ]
              }
            }
          },
          "metadata": {}
        },
        {
          "output_type": "stream",
          "name": "stdout",
          "text": [
            "Looking in indexes: https://pypi.org/simple, https://us-python.pkg.dev/colab-wheels/public/simple/\n",
            "Collecting sb3-contrib\n",
            "  Downloading sb3_contrib-1.6.2-py3-none-any.whl (79 kB)\n",
            "\u001b[K     |████████████████████████████████| 79 kB 3.7 MB/s \n",
            "\u001b[?25hRequirement already satisfied: stable-baselines3>=1.6.2 in /usr/local/lib/python3.7/dist-packages (from sb3-contrib) (1.6.2)\n",
            "Requirement already satisfied: cloudpickle in /usr/local/lib/python3.7/dist-packages (from stable-baselines3>=1.6.2->sb3-contrib) (1.5.0)\n",
            "Requirement already satisfied: matplotlib in /usr/local/lib/python3.7/dist-packages (from stable-baselines3>=1.6.2->sb3-contrib) (3.2.2)\n",
            "Requirement already satisfied: pandas in /usr/local/lib/python3.7/dist-packages (from stable-baselines3>=1.6.2->sb3-contrib) (1.3.5)\n",
            "Requirement already satisfied: numpy in /usr/local/lib/python3.7/dist-packages (from stable-baselines3>=1.6.2->sb3-contrib) (1.21.6)\n",
            "Requirement already satisfied: importlib-metadata~=4.13 in /usr/local/lib/python3.7/dist-packages (from stable-baselines3>=1.6.2->sb3-contrib) (4.13.0)\n",
            "Requirement already satisfied: torch>=1.11 in /usr/local/lib/python3.7/dist-packages (from stable-baselines3>=1.6.2->sb3-contrib) (1.12.1+cu113)\n",
            "Requirement already satisfied: gym==0.21 in /usr/local/lib/python3.7/dist-packages (from stable-baselines3>=1.6.2->sb3-contrib) (0.21.0)\n",
            "Requirement already satisfied: typing-extensions>=3.6.4 in /usr/local/lib/python3.7/dist-packages (from importlib-metadata~=4.13->stable-baselines3>=1.6.2->sb3-contrib) (4.1.1)\n",
            "Requirement already satisfied: zipp>=0.5 in /usr/local/lib/python3.7/dist-packages (from importlib-metadata~=4.13->stable-baselines3>=1.6.2->sb3-contrib) (3.10.0)\n",
            "Requirement already satisfied: cycler>=0.10 in /usr/local/lib/python3.7/dist-packages (from matplotlib->stable-baselines3>=1.6.2->sb3-contrib) (0.11.0)\n",
            "Requirement already satisfied: python-dateutil>=2.1 in /usr/local/lib/python3.7/dist-packages (from matplotlib->stable-baselines3>=1.6.2->sb3-contrib) (2.8.2)\n",
            "Requirement already satisfied: pyparsing!=2.0.4,!=2.1.2,!=2.1.6,>=2.0.1 in /usr/local/lib/python3.7/dist-packages (from matplotlib->stable-baselines3>=1.6.2->sb3-contrib) (3.0.9)\n",
            "Requirement already satisfied: kiwisolver>=1.0.1 in /usr/local/lib/python3.7/dist-packages (from matplotlib->stable-baselines3>=1.6.2->sb3-contrib) (1.4.4)\n",
            "Requirement already satisfied: six>=1.5 in /usr/local/lib/python3.7/dist-packages (from python-dateutil>=2.1->matplotlib->stable-baselines3>=1.6.2->sb3-contrib) (1.15.0)\n",
            "Requirement already satisfied: pytz>=2017.3 in /usr/local/lib/python3.7/dist-packages (from pandas->stable-baselines3>=1.6.2->sb3-contrib) (2022.5)\n",
            "Installing collected packages: sb3-contrib\n",
            "Successfully installed sb3-contrib-1.6.2\n"
          ]
        }
      ]
    },
    {
      "cell_type": "markdown",
      "metadata": {
        "id": "hGghC2Lga56i"
      },
      "source": [
        "## Load atari game with AutoROM\n",
        "\n",
        "---\n",
        "\n",
        "\n",
        "Create ALE Interface and register ms_pacman binaries"
      ]
    },
    {
      "cell_type": "markdown",
      "source": [
        "```\n",
        "! DO NOT modify cell\n",
        "```"
      ],
      "metadata": {
        "id": "y7mNgDDaNtWO"
      }
    },
    {
      "cell_type": "code",
      "execution_count": null,
      "metadata": {
        "id": "NGjL2HCwUCFw"
      },
      "outputs": [],
      "source": [
        "from ale_py import ALEInterface\n",
        "\n",
        "ale = ALEInterface()\n",
        "ms_pacman_rom_directory = \"/usr/local/lib/python3.7/dist-packages/AutoROM/roms/ms_pacman.bin\"\n",
        "\n",
        "is_supported = ale.isSupportedROM(ms_pacman_rom_directory)\n",
        "if is_supported:\n",
        "  ale.loadROM(ms_pacman_rom_directory)\n",
        "else:\n",
        "  raise SystemError(\"ROM not supported by Arcade Learning Environment\")"
      ]
    },
    {
      "cell_type": "markdown",
      "metadata": {
        "id": "fbWjN2cqSzKs"
      },
      "source": [
        "# Section 2\n",
        "\n",
        "> ## Create Env Instance\n",
        "\n",
        "In this section your role is to create the MsPacman environment\n",
        "\n",
        "\n"
      ]
    },
    {
      "cell_type": "markdown",
      "source": [
        "## Instantiate environment\n",
        "\n",
        "---\n",
        "\n",
        "\n",
        "Write a code that will instantiate the Pacman environment. \\\n",
        "The details are written in the cell bellow"
      ],
      "metadata": {
        "id": "-EPLhs0O8noS"
      }
    },
    {
      "cell_type": "markdown",
      "source": [
        "```\n",
        "@ Implementation cell\n",
        "> create env object initialized with ALE/MsPacman-v5 environment\n",
        "```"
      ],
      "metadata": {
        "id": "AUabwAQ-O1TO"
      }
    },
    {
      "cell_type": "code",
      "source": [
        "import gym\n",
        "import numpy as np\n",
        "\n",
        "env = ' your code here '"
      ],
      "metadata": {
        "id": "jwX76ozTN2Dt"
      },
      "execution_count": null,
      "outputs": []
    },
    {
      "cell_type": "markdown",
      "source": [
        "##  Environment check\n",
        "\n",
        "---\n",
        "\n",
        "\n",
        "The cells below will check whether the environemnt is import correctly"
      ],
      "metadata": {
        "id": "elVVolFv9Bc8"
      }
    },
    {
      "cell_type": "markdown",
      "source": [
        "```\n",
        "! DO NOT modify cell\n",
        "```"
      ],
      "metadata": {
        "id": "OcsfuPj86WrA"
      }
    },
    {
      "cell_type": "code",
      "execution_count": null,
      "metadata": {
        "id": "vTBYz1B_bDMf"
      },
      "outputs": [],
      "source": [
        "_target_observation_space = np.array([210, 160, 3], dtype=np.intc)\n",
        "_env_observation_space = np.array(env.observation_space.shape, dtype=np.intc)\n",
        "\n",
        "_target_action_space = gym.spaces.Discrete(9)\n",
        "_env_action_space = env.action_space\n",
        "\n",
        "assert np.all([_target_observation_space, _env_observation_space]), \"The observation space shape does not match requirements\"\n",
        "assert _target_action_space == _env_action_space, \"The action space does not match the requirements\""
      ]
    },
    {
      "cell_type": "markdown",
      "metadata": {
        "id": "Nw5RTptabXvx"
      },
      "source": [
        "# Section 3\n",
        "\n",
        "> ## Agent Initialization and Evaluation\n",
        "\n",
        "In this section your role is to initialize the RL algorithm for the agent. \\\n",
        "Link to algorithm explanation - [deep reinforcement learning explained](https://spinningup.openai.com/en/latest/index.html) \\\n",
        "Please refer to section **ALGORITHMS DOCS**\n",
        "\n",
        "List of steps required to perform in order to solve this environment\n",
        "1.   Choose proper algorithm ( e.g PPO, DDPG, SAC, etc. )\n",
        "2.   Initialize the policy network ( e.g MlpPolicy, CnnPolicy, etc. )\n",
        "3.   Wrap your environment with a Stable-Baselines3 Monitor wrapper\n",
        "4.   Evaluate the untrained agent on Pacman Environment\n",
        "5.   Record video and display video of untrained agent\n",
        "\n",
        "\n",
        "\n",
        "\n"
      ]
    },
    {
      "cell_type": "markdown",
      "source": [
        "##  Algorithm and Policy Network\n",
        "\n",
        "---\n",
        "Import from SB3 chosen algorithm and policy\n",
        "\n",
        "SB3 algorithms - [deep reinforcement learning algos](https://stable-baselines3.readthedocs.io/en/master/guide/algos.html) \\\n",
        "SB3 policy networks - [policy networks](https://stable-baselines.readthedocs.io/en/master/modules/policies.html) \\\n",
        "have in mind that certain policie networks might not be implemented for certain algorithms\n"
      ],
      "metadata": {
        "id": "ASL4GNAV9QyO"
      }
    },
    {
      "cell_type": "markdown",
      "source": [
        "```\n",
        "@ Implementation cell\n",
        "> import deep reinforcement learning algorithm\n",
        "> import policy network\n",
        "```"
      ],
      "metadata": {
        "id": "ezXEl6FA-KSW"
      }
    },
    {
      "cell_type": "code",
      "source": [
        "' your code here - imports '"
      ],
      "metadata": {
        "colab": {
          "base_uri": "https://localhost:8080/",
          "height": 36
        },
        "id": "LtEVILxI-FDb",
        "outputId": "3180ef6b-ce5a-4d5d-a148-0a881706b7ed"
      },
      "execution_count": null,
      "outputs": [
        {
          "output_type": "execute_result",
          "data": {
            "text/plain": [
              "' your code here - imports '"
            ],
            "application/vnd.google.colaboratory.intrinsic+json": {
              "type": "string"
            }
          },
          "metadata": {},
          "execution_count": 33
        }
      ]
    },
    {
      "cell_type": "markdown",
      "source": [
        "```\n",
        "@ Implementation cell\n",
        "> instantiate chosen model\n",
        "> the parameters are (policy_network, environment, verbose)\n",
        "  policy_networs: chosen policy network ( e.g CnnPolicy )\n",
        "  environemnt: instance of environment\n",
        "  verbose: bool (True, False) - True means outpout info to prompt ( nice to have )\n",
        "```"
      ],
      "metadata": {
        "id": "Ntouo6LCBlfY"
      }
    },
    {
      "cell_type": "code",
      "source": [
        "model = ' your code here - model instance '"
      ],
      "metadata": {
        "id": "-hXZY9M7Amp3"
      },
      "execution_count": null,
      "outputs": []
    },
    {
      "cell_type": "markdown",
      "source": [
        "##  Model check\n",
        "\n",
        "---\n",
        "Predict first action given first observation"
      ],
      "metadata": {
        "id": "q2bSz-M0CIdy"
      }
    },
    {
      "cell_type": "markdown",
      "source": [
        "```\n",
        "@ Implementation cell\n",
        "> reset environment and get first observation\n",
        "> feed first observation to models predict method and get first action\n",
        "  have in mind that predict method returns action and next hidden state\n",
        "```"
      ],
      "metadata": {
        "id": "LpHhDh5_DVZx"
      }
    },
    {
      "cell_type": "code",
      "execution_count": null,
      "metadata": {
        "id": "ZAKt75r7TtMc"
      },
      "outputs": [],
      "source": [
        "obs = ' your code here - reset environment '\n",
        "action, _ =  ' your code here - predict action given first observation [ obs ]'"
      ]
    },
    {
      "cell_type": "markdown",
      "source": [
        "```\n",
        "! DO NOT modify cell\n",
        "```"
      ],
      "metadata": {
        "id": "xnAG2NrKGbHx"
      }
    },
    {
      "cell_type": "code",
      "source": [
        "assert action in _env_action_space, \"Action is not a part of environment action space\""
      ],
      "metadata": {
        "id": "GCkyu73sGYeI"
      },
      "execution_count": null,
      "outputs": []
    },
    {
      "cell_type": "markdown",
      "metadata": {
        "id": "c9YqHZv0T71V"
      },
      "source": [
        "##  Evaluate Vanilla Agent\n",
        "\n",
        "---\n",
        "Check the performance of untrained agent"
      ]
    },
    {
      "cell_type": "markdown",
      "source": [
        "```\n",
        "@ Implementation cell\n",
        "> import evaluate_policy methods from SB3\n",
        "> import Monitor class from SB3\n",
        "```"
      ],
      "metadata": {
        "id": "Sp0ho7chHNNr"
      }
    },
    {
      "cell_type": "code",
      "execution_count": null,
      "metadata": {
        "id": "L_K6v3o5VinK",
        "colab": {
          "base_uri": "https://localhost:8080/",
          "height": 36
        },
        "outputId": "4bb7a449-4ac2-4161-d283-89758b2eb477"
      },
      "outputs": [
        {
          "output_type": "execute_result",
          "data": {
            "text/plain": [
              "' your code here - imports'"
            ],
            "application/vnd.google.colaboratory.intrinsic+json": {
              "type": "string"
            }
          },
          "metadata": {},
          "execution_count": 39
        }
      ],
      "source": [
        "' your code here - imports'"
      ]
    },
    {
      "cell_type": "markdown",
      "source": [
        "```\n",
        "@ Implementation cell\n",
        "> wrap env with Monitor wrapper\n",
        "  monitor wrapper is used to track agent's performance\n",
        "```"
      ],
      "metadata": {
        "id": "ipcvJxceHiLb"
      }
    },
    {
      "cell_type": "code",
      "execution_count": null,
      "metadata": {
        "id": "FfQ262LEVlQf"
      },
      "outputs": [],
      "source": [
        "env = ' your code here - wrap env '"
      ]
    },
    {
      "cell_type": "markdown",
      "source": [
        "```\n",
        "@ Implementation cell\n",
        "> evaluate untrained model using evaluate_policy method\n",
        "> the parameters are:\n",
        "  model: instantiated model\n",
        "  environment: instantiated env\n",
        "  n_eval_espisodes: episodes to play ( 100 is optimal )\n",
        "  deterministic: bool (True, False) if True our agent will chose actions greedily - full exploitation\n",
        "```"
      ],
      "metadata": {
        "id": "kFGaond_HvQc"
      }
    },
    {
      "cell_type": "code",
      "execution_count": null,
      "metadata": {
        "colab": {
          "base_uri": "https://localhost:8080/"
        },
        "id": "83KVxbzuVlSd",
        "outputId": "a17b90e3-d990-4119-8d6d-3f2f1af5e095"
      },
      "outputs": [
        {
          "name": "stdout",
          "output_type": "stream",
          "text": [
            "mean_reward:60.00 +/- 0.00\n"
          ]
        }
      ],
      "source": [
        "mean_reward, std_reward = ' your code here - evaluate policy '"
      ]
    },
    {
      "cell_type": "markdown",
      "source": [
        "```\n",
        "! DO NOT modify cell\n",
        "```"
      ],
      "metadata": {
        "id": "RjCFw1F-I34O"
      }
    },
    {
      "cell_type": "code",
      "source": [
        "print(f\"mean_reward:{mean_reward:.2f} +/- {std_reward:.2f}\")"
      ],
      "metadata": {
        "id": "-Z3O6749I0fU"
      },
      "execution_count": null,
      "outputs": []
    },
    {
      "cell_type": "markdown",
      "source": [
        "##  Record Vanilla Agent and Display\n",
        "\n",
        "---\n",
        "\n",
        "Display agent's performance"
      ],
      "metadata": {
        "id": "c_JPgzeuoTx3"
      }
    },
    {
      "cell_type": "markdown",
      "source": [
        "```\n",
        "@ Implementation cell\n",
        "> record agent video\n",
        "  for instance: record_agent('ALE/MsPacman-v5', ppo_model, video_length=500, prefix='vanilla-ppo-pacman')\n",
        "\n",
        "> show agent video\n",
        "  for instance: show_agent_video('videos', prefix='vanilla')\n",
        "```"
      ],
      "metadata": {
        "id": "_4oz4KEDogp0"
      }
    },
    {
      "cell_type": "code",
      "source": [
        "' your code here - record agent '"
      ],
      "metadata": {
        "id": "LN4vOWFfoNPb"
      },
      "execution_count": null,
      "outputs": []
    },
    {
      "cell_type": "code",
      "source": [
        "' your code here - show agent video '"
      ],
      "metadata": {
        "id": "tpywPrMJod9y"
      },
      "execution_count": null,
      "outputs": []
    },
    {
      "cell_type": "markdown",
      "metadata": {
        "id": "NT-IjVc0VbrZ"
      },
      "source": [
        "# Section 4\n",
        "\n",
        "> ## Agent Training\n",
        "\n",
        "Train your model untill it reaches desired score. \\\n",
        "\n",
        "---\n",
        "\n",
        "\n",
        "DDPG Building Blocks and Learning Example: \\\n",
        "**ActorNetwork** - online network that is used to choose action. \\\n",
        "**CriticNetwork** - online network that is used to evaluate the performance of actor. \\\n",
        "**TargetActor** - frozen actor network (copy) that is used to make more stable updates to policy parameters. \\\n",
        "**TargetCritic** - fronze critic netowrk (copy) that is used to make more stable updates to critic parameters. \n",
        "\\\n",
        "\n",
        "Deep Reinforcement Learning common learning process:\n",
        "1.   Agent interacts with the environment using ActorNetwork to choose actions\n",
        "2.   The interactions (trajectories or rollouts) are stored in the replay memory\n",
        "3.   Once the replay memory is full, we sample a mini batch of trajectories\n",
        "4.   The calculation of objective function w.r.t target network targets for actor and critic are performed giving the loss\n",
        "5.   The weights of online networks are updated w.r.t calculated loss\n",
        "6.   once every several iteration the sync of target and online networks is performed ( deep copy or polyak averaging )\n",
        "\n",
        "\n",
        "example of how the learning process is implemented for DDPG: [DDPG Learning Example](https://gitlab.com/JamieChojnacki/reinforcementlearning/-/blob/master/from_paper_to_code/ddpg_from_paper_to_code/ddpg_torch.py)\n",
        "\n"
      ]
    },
    {
      "cell_type": "markdown",
      "source": [
        "##  Train model\n",
        "\n",
        "---\n",
        "Train model untill it reaches desired score"
      ],
      "metadata": {
        "id": "BOijZSo4NY50"
      }
    },
    {
      "cell_type": "markdown",
      "source": [
        "```\n",
        "@ Implementation cell\n",
        "> train model untill it reaches desired performance\n",
        "```"
      ],
      "metadata": {
        "id": "bFhnTkHuNbtb"
      }
    },
    {
      "cell_type": "code",
      "execution_count": null,
      "metadata": {
        "colab": {
          "base_uri": "https://localhost:8080/",
          "height": 36
        },
        "id": "l7dGe14cVuh_",
        "outputId": "e060b8af-94d2-436c-efba-08a37e0e88e7"
      },
      "outputs": [
        {
          "output_type": "execute_result",
          "data": {
            "text/plain": [
              "' your code here - train model '"
            ],
            "application/vnd.google.colaboratory.intrinsic+json": {
              "type": "string"
            }
          },
          "metadata": {},
          "execution_count": 41
        }
      ],
      "source": [
        "' your code here - train model '"
      ]
    },
    {
      "cell_type": "markdown",
      "source": [
        "##  Evaluate Trained Agent\n",
        "\n",
        "---\n",
        "Check the performance of trained agent"
      ],
      "metadata": {
        "id": "BGyRg4LPO3TI"
      }
    },
    {
      "cell_type": "markdown",
      "source": [
        "```\n",
        "@ Implementation cell\n",
        "> evaluate trained model using evaluate_policy method\n",
        "> the parameters are:\n",
        "  model: instantiated model\n",
        "  environment: instantiated env\n",
        "  n_eval_espisodes: episodes to play ( 100 is optimal )\n",
        "  deterministic: bool (True, False) if True our agent will chose actions greedily - full exploitation\n",
        "```"
      ],
      "metadata": {
        "id": "ynJD9Lb0N4rc"
      }
    },
    {
      "cell_type": "code",
      "execution_count": null,
      "metadata": {
        "id": "liNHhLPWV4iy"
      },
      "outputs": [],
      "source": [
        "mean_reward, std_reward = ' your code here - evaluate policy '"
      ]
    },
    {
      "cell_type": "markdown",
      "source": [
        "```\n",
        "! DO NOT modify cell\n",
        "```"
      ],
      "metadata": {
        "id": "LWcG_pEANtgE"
      }
    },
    {
      "cell_type": "code",
      "source": [
        "print(f\"mean_reward:{mean_reward:.2f} +/- {std_reward:.2f}\")"
      ],
      "metadata": {
        "id": "4xDEtg0hNs7Z"
      },
      "execution_count": null,
      "outputs": []
    },
    {
      "cell_type": "markdown",
      "source": [
        "##  Record Trained Agent and Display\n",
        "\n",
        "---\n",
        "\n",
        "Display agent's performance"
      ],
      "metadata": {
        "id": "vnWZNm1OrzNe"
      }
    },
    {
      "cell_type": "markdown",
      "source": [
        "```\n",
        "@ Implementation cell\n",
        "> record agent video\n",
        "  for instance: record_agent('ALE/MsPacman-v5', ppo_model, video_length=500, prefix='trained-ppo-pacman')\n",
        "\n",
        "> show agent video\n",
        "  for instance: show_agent_video('videos', prefix='trained')\n",
        "```"
      ],
      "metadata": {
        "id": "BRyIXSf1r4cV"
      }
    },
    {
      "cell_type": "code",
      "source": [
        "' your code here - record agent '"
      ],
      "metadata": {
        "colab": {
          "base_uri": "https://localhost:8080/",
          "height": 36
        },
        "id": "69j9WdQorsjN",
        "outputId": "493f1e89-d033-439a-bfdb-e880e9a66da2"
      },
      "execution_count": 7,
      "outputs": [
        {
          "output_type": "execute_result",
          "data": {
            "text/plain": [
              "' your code here - record agent '"
            ],
            "application/vnd.google.colaboratory.intrinsic+json": {
              "type": "string"
            }
          },
          "metadata": {},
          "execution_count": 7
        }
      ]
    },
    {
      "cell_type": "code",
      "source": [
        "' your code here - show agent video '"
      ],
      "metadata": {
        "colab": {
          "base_uri": "https://localhost:8080/",
          "height": 36
        },
        "id": "6zsCkpdgr_jn",
        "outputId": "efcbf985-02cd-4ba1-a5c5-49588a5c04d7"
      },
      "execution_count": 8,
      "outputs": [
        {
          "output_type": "execute_result",
          "data": {
            "text/plain": [
              "' your code here - show agent video '"
            ],
            "application/vnd.google.colaboratory.intrinsic+json": {
              "type": "string"
            }
          },
          "metadata": {},
          "execution_count": 8
        }
      ]
    },
    {
      "cell_type": "markdown",
      "metadata": {
        "id": "k1s_MooZWaEV"
      },
      "source": [
        "# Section 5\n",
        "> ## Saving Model\n",
        "\n",
        "\n",
        "Save trained model. \\\n",
        "it is a common practice in DRL since we do not want to train our model from scratch everytime"
      ]
    },
    {
      "cell_type": "markdown",
      "source": [
        "##  Sample Observations and Actions\n",
        "\n",
        "---\n",
        "Sample observations from environment and predicted actions from agent. \\\n",
        "That step is required to validate whether the policy network was saved successfully"
      ],
      "metadata": {
        "id": "BNpDoufWPQT8"
      }
    },
    {
      "cell_type": "markdown",
      "source": [
        "```\n",
        "@ Implementation cell\n",
        "> gather 10 random observations from environment and save them as numpy array\n",
        "  use env.observation_space.sample() method to gather those observations\n",
        "> use your model to get predicted actions for those observations\n",
        "  use model's predict() method\n",
        "  make sure to set deterministic flag to True\n",
        "```"
      ],
      "metadata": {
        "id": "Nb4WB5fOPqOo"
      }
    },
    {
      "cell_type": "code",
      "execution_count": null,
      "metadata": {
        "id": "YoGoxXpiX4hS"
      },
      "outputs": [],
      "source": [
        "observations = ' your code here - sample observations from env '\n",
        "action_before_saving, _ = ' your code here - predict actions '"
      ]
    },
    {
      "cell_type": "markdown",
      "source": [
        "##  Save the Model\n",
        "\n",
        "---\n",
        "Save your trained model as a zip file"
      ],
      "metadata": {
        "id": "39viGfmBQUiE"
      }
    },
    {
      "cell_type": "markdown",
      "source": [
        "```\n",
        "@ Implementation cell\n",
        "> use your model's save method()\n",
        "  remember to use .zip extension\n",
        "```"
      ],
      "metadata": {
        "id": "c79dXN_1QdR_"
      }
    },
    {
      "cell_type": "code",
      "execution_count": null,
      "metadata": {
        "id": "Nhb8SpkGYCmM",
        "colab": {
          "base_uri": "https://localhost:8080/",
          "height": 36
        },
        "outputId": "12d8d8f2-2118-499f-9766-703a6f4c54ec"
      },
      "outputs": [
        {
          "output_type": "execute_result",
          "data": {
            "text/plain": [
              "' your code here - save model '"
            ],
            "application/vnd.google.colaboratory.intrinsic+json": {
              "type": "string"
            }
          },
          "metadata": {},
          "execution_count": 45
        }
      ],
      "source": [
        "' your code here - save model '"
      ]
    },
    {
      "cell_type": "markdown",
      "source": [
        "```\n",
        "! DO NOT modify cell\n",
        "```"
      ],
      "metadata": {
        "id": "QGIPHRymOjGq"
      }
    },
    {
      "cell_type": "code",
      "execution_count": null,
      "metadata": {
        "colab": {
          "base_uri": "https://localhost:8080/"
        },
        "id": "fSmG_mGnYNgG",
        "outputId": "dd8871cd-6a69-4856-b8cb-a948072f88c9"
      },
      "outputs": [
        {
          "name": "stdout",
          "output_type": "stream",
          "text": [
            "ppo_cartpole.zip\n"
          ]
        }
      ],
      "source": [
        "!ls *.zip"
      ]
    },
    {
      "cell_type": "markdown",
      "source": [
        "##  Load the Model\n",
        "\n",
        "---\n",
        "Load your saved model"
      ],
      "metadata": {
        "id": "N13dLD0rRK6N"
      }
    },
    {
      "cell_type": "markdown",
      "source": [
        "```\n",
        "@ Implementation cell\n",
        "> use your model's load() method\n",
        "```"
      ],
      "metadata": {
        "id": "2IkgYzmmROs7"
      }
    },
    {
      "cell_type": "code",
      "execution_count": null,
      "metadata": {
        "id": "uNvAQconYOxs"
      },
      "outputs": [],
      "source": [
        "loaded_model = ' your code here - load saved model '"
      ]
    },
    {
      "cell_type": "markdown",
      "source": [
        "```\n",
        "! DO NOT modify cell\n",
        "```"
      ],
      "metadata": {
        "id": "evQTsUdbRHZc"
      }
    },
    {
      "cell_type": "code",
      "execution_count": null,
      "metadata": {
        "id": "rH5d0w1sYP-7"
      },
      "outputs": [],
      "source": [
        "action_after_loading, _ = loaded_model.predict(observations, deterministic=True)"
      ]
    },
    {
      "cell_type": "markdown",
      "source": [
        "```\n",
        "! DO NOT modify cell\n",
        "```"
      ],
      "metadata": {
        "id": "AtStEiUgOgKY"
      }
    },
    {
      "cell_type": "code",
      "execution_count": null,
      "metadata": {
        "id": "O1aMOAjLYRRg"
      },
      "outputs": [],
      "source": [
        "assert np.allclose(action_before_saving, action_after_loading), \"Somethng went wrong in the loading\""
      ]
    }
  ],
  "metadata": {
    "colab": {
      "provenance": [],
      "collapsed_sections": [
        "F9XjZwq6HZ3f"
      ]
    },
    "gpuClass": "standard",
    "kernelspec": {
      "display_name": "Python 3",
      "name": "python3"
    },
    "language_info": {
      "name": "python"
    }
  },
  "nbformat": 4,
  "nbformat_minor": 0
}