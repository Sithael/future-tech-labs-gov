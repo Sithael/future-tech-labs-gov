{
  "nbformat": 4,
  "nbformat_minor": 0,
  "metadata": {
    "colab": {
      "provenance": []
    },
    "kernelspec": {
      "name": "python3",
      "display_name": "Python 3"
    },
    "language_info": {
      "name": "python"
    }
  },
  "cells": [
    {
      "cell_type": "code",
      "execution_count": 29,
      "metadata": {
        "id": "43ZhTNHMmKnJ"
      },
      "outputs": [],
      "source": [
        "\"\"\" SECTION 1: IMPORTS \"\"\"\n",
        "\n",
        "import torch\n",
        "import torch.nn as nn\n",
        "import torch.optim as optim\n",
        "from torchvision import datasets, transforms\n",
        "from torch.utils.data import DataLoader\n",
        "\n",
        "import matplotlib.pyplot as plt"
      ]
    },
    {
      "cell_type": "code",
      "source": [
        "\"\"\" SECTiOIN 2: LOAD DATA AND DATALOADER \"\"\"\n",
        "\n",
        "# 1. Load and Prepare the MNIST Dataset\n",
        "transform = transforms.Compose([transforms.ToTensor(),\n",
        "                                transforms.Normalize((0.1307,), (0.3081,))])  # MNIST mean and std\n",
        "\n",
        "train_dataset = datasets.MNIST(root='./data', train=True, download=True, transform=transform)\n",
        "test_dataset = datasets.MNIST(root='./data', train=False, transform=transform)\n",
        "\n",
        "train_loader = DataLoader(train_dataset, batch_size=64, shuffle=True)\n",
        "test_loader = DataLoader(test_dataset, batch_size=1000, shuffle=False)"
      ],
      "metadata": {
        "id": "N6HspmhomN7R"
      },
      "execution_count": 30,
      "outputs": []
    },
    {
      "cell_type": "code",
      "source": [
        "# 2. Define the Neural Network Architecture\n",
        "class MNISTNet(nn.Module):\n",
        "    def __init__(self):\n",
        "        super(MNISTNet, self).__init__()\n",
        "        self.fc1 = nn.Linear(28 * 28, 128)  # Flatten the 28x28 images\n",
        "        self.fc2 = nn.Linear(128, 64)\n",
        "        self.fc3 = nn.Linear(64, 10)  # 10 classes for digits 0-9\n",
        "\n",
        "    def forward(self, x):\n",
        "        x = x.view(-1, 28 * 28)  # Flatten the images\n",
        "        x = torch.relu(self.fc1(x))\n",
        "        x = torch.relu(self.fc2(x))\n",
        "        x = self.fc3(x)\n",
        "        return x"
      ],
      "metadata": {
        "id": "M5idPzk9mjby"
      },
      "execution_count": 31,
      "outputs": []
    },
    {
      "cell_type": "code",
      "source": [
        "# 3. Initialize the Network and Optimizer\n",
        "model = MNISTNet()\n",
        "criterion = nn.CrossEntropyLoss()\n",
        "optimizer = optim.Adam(model.parameters(), lr=0.001)"
      ],
      "metadata": {
        "id": "efsRwT-ommjk"
      },
      "execution_count": 32,
      "outputs": []
    },
    {
      "cell_type": "code",
      "source": [
        "device = torch.device(\"cuda\" if torch.cuda.is_available() else \"cpu\")\n",
        "model.to(device)"
      ],
      "metadata": {
        "colab": {
          "base_uri": "https://localhost:8080/"
        },
        "id": "uZ6bZCFNoEdd",
        "outputId": "85b19824-5c3e-4124-f01a-67d02b845edb"
      },
      "execution_count": 33,
      "outputs": [
        {
          "output_type": "execute_result",
          "data": {
            "text/plain": [
              "MNISTNet(\n",
              "  (fc1): Linear(in_features=784, out_features=128, bias=True)\n",
              "  (fc2): Linear(in_features=128, out_features=64, bias=True)\n",
              "  (fc3): Linear(in_features=64, out_features=10, bias=True)\n",
              ")"
            ]
          },
          "metadata": {},
          "execution_count": 33
        }
      ]
    },
    {
      "cell_type": "code",
      "source": [
        "# 4. Training the Network\n",
        "def train(model, device, train_loader, optimizer, epoch):\n",
        "    model.train()\n",
        "    for batch_idx, (data, target) in enumerate(train_loader):\n",
        "        data, target = data.to(device), target.to(device)\n",
        "        optimizer.zero_grad()\n",
        "        output = model(data)\n",
        "        loss = criterion(output, target)\n",
        "        loss.backward()\n",
        "        optimizer.step()\n",
        "\n",
        "        if batch_idx % 100 == 0:\n",
        "            print(f\"Train Epoch: {epoch} [{batch_idx * len(data)}/{len(train_loader.dataset)} ({100. * batch_idx / len(train_loader):.0f}%)]\\tLoss: {loss.item():.6f}\")"
      ],
      "metadata": {
        "id": "mhYb1U65nmuz"
      },
      "execution_count": 34,
      "outputs": []
    },
    {
      "cell_type": "code",
      "source": [
        "# 5. Evaluating the Network\n",
        "def test(model, device, test_loader):\n",
        "    model.eval()\n",
        "    test_loss = 0\n",
        "    correct = 0\n",
        "    with torch.no_grad():\n",
        "        for data, target in test_loader:\n",
        "            data, target = data.to(device), target.to(device)\n",
        "            output = model(data)\n",
        "            test_loss += criterion(output, target).item()\n",
        "            pred = output.argmax(dim=1, keepdim=True)\n",
        "            correct += pred.eq(target.view_as(pred)).sum().item()\n",
        "\n",
        "    test_loss /= len(test_loader.dataset)\n",
        "    print(f'\\nTest set: Average loss: {test_loss:.4f}, Accuracy: {correct}/{len(test_loader.dataset)} ({100. * correct / len(test_loader.dataset):.0f}%)\\n')"
      ],
      "metadata": {
        "id": "Ce73QeVunspz"
      },
      "execution_count": 35,
      "outputs": []
    },
    {
      "cell_type": "code",
      "source": [
        "for epoch in range(1, 10):\n",
        "    train(model, device, train_loader, optimizer, epoch)"
      ],
      "metadata": {
        "colab": {
          "base_uri": "https://localhost:8080/"
        },
        "id": "TsRE4BSWn4eD",
        "outputId": "e060d814-baed-44e7-bd55-0446646e97bf"
      },
      "execution_count": 36,
      "outputs": [
        {
          "output_type": "stream",
          "name": "stdout",
          "text": [
            "Train Epoch: 1 [0/60000 (0%)]\tLoss: 2.328241\n",
            "Train Epoch: 1 [6400/60000 (11%)]\tLoss: 0.415361\n",
            "Train Epoch: 1 [12800/60000 (21%)]\tLoss: 0.257078\n",
            "Train Epoch: 1 [19200/60000 (32%)]\tLoss: 0.219790\n",
            "Train Epoch: 1 [25600/60000 (43%)]\tLoss: 0.306726\n",
            "Train Epoch: 1 [32000/60000 (53%)]\tLoss: 0.173535\n",
            "Train Epoch: 1 [38400/60000 (64%)]\tLoss: 0.046654\n",
            "Train Epoch: 1 [44800/60000 (75%)]\tLoss: 0.107991\n",
            "Train Epoch: 1 [51200/60000 (85%)]\tLoss: 0.280376\n",
            "Train Epoch: 1 [57600/60000 (96%)]\tLoss: 0.082336\n",
            "Train Epoch: 2 [0/60000 (0%)]\tLoss: 0.105903\n",
            "Train Epoch: 2 [6400/60000 (11%)]\tLoss: 0.176897\n",
            "Train Epoch: 2 [12800/60000 (21%)]\tLoss: 0.166401\n",
            "Train Epoch: 2 [19200/60000 (32%)]\tLoss: 0.046913\n",
            "Train Epoch: 2 [25600/60000 (43%)]\tLoss: 0.130336\n",
            "Train Epoch: 2 [32000/60000 (53%)]\tLoss: 0.029786\n",
            "Train Epoch: 2 [38400/60000 (64%)]\tLoss: 0.179425\n",
            "Train Epoch: 2 [44800/60000 (75%)]\tLoss: 0.066214\n",
            "Train Epoch: 2 [51200/60000 (85%)]\tLoss: 0.126389\n",
            "Train Epoch: 2 [57600/60000 (96%)]\tLoss: 0.117389\n",
            "Train Epoch: 3 [0/60000 (0%)]\tLoss: 0.020038\n",
            "Train Epoch: 3 [6400/60000 (11%)]\tLoss: 0.036294\n",
            "Train Epoch: 3 [12800/60000 (21%)]\tLoss: 0.015873\n",
            "Train Epoch: 3 [19200/60000 (32%)]\tLoss: 0.124782\n",
            "Train Epoch: 3 [25600/60000 (43%)]\tLoss: 0.179919\n",
            "Train Epoch: 3 [32000/60000 (53%)]\tLoss: 0.127696\n",
            "Train Epoch: 3 [38400/60000 (64%)]\tLoss: 0.013568\n",
            "Train Epoch: 3 [44800/60000 (75%)]\tLoss: 0.028601\n",
            "Train Epoch: 3 [51200/60000 (85%)]\tLoss: 0.112504\n",
            "Train Epoch: 3 [57600/60000 (96%)]\tLoss: 0.135371\n",
            "Train Epoch: 4 [0/60000 (0%)]\tLoss: 0.036865\n",
            "Train Epoch: 4 [6400/60000 (11%)]\tLoss: 0.014261\n",
            "Train Epoch: 4 [12800/60000 (21%)]\tLoss: 0.045646\n",
            "Train Epoch: 4 [19200/60000 (32%)]\tLoss: 0.213464\n",
            "Train Epoch: 4 [25600/60000 (43%)]\tLoss: 0.093319\n",
            "Train Epoch: 4 [32000/60000 (53%)]\tLoss: 0.034753\n",
            "Train Epoch: 4 [38400/60000 (64%)]\tLoss: 0.133588\n",
            "Train Epoch: 4 [44800/60000 (75%)]\tLoss: 0.061280\n",
            "Train Epoch: 4 [51200/60000 (85%)]\tLoss: 0.036731\n",
            "Train Epoch: 4 [57600/60000 (96%)]\tLoss: 0.088511\n",
            "Train Epoch: 5 [0/60000 (0%)]\tLoss: 0.008959\n",
            "Train Epoch: 5 [6400/60000 (11%)]\tLoss: 0.088926\n",
            "Train Epoch: 5 [12800/60000 (21%)]\tLoss: 0.016171\n",
            "Train Epoch: 5 [19200/60000 (32%)]\tLoss: 0.035420\n",
            "Train Epoch: 5 [25600/60000 (43%)]\tLoss: 0.032702\n",
            "Train Epoch: 5 [32000/60000 (53%)]\tLoss: 0.058428\n",
            "Train Epoch: 5 [38400/60000 (64%)]\tLoss: 0.094677\n",
            "Train Epoch: 5 [44800/60000 (75%)]\tLoss: 0.086642\n",
            "Train Epoch: 5 [51200/60000 (85%)]\tLoss: 0.094431\n",
            "Train Epoch: 5 [57600/60000 (96%)]\tLoss: 0.038214\n",
            "Train Epoch: 6 [0/60000 (0%)]\tLoss: 0.026077\n",
            "Train Epoch: 6 [6400/60000 (11%)]\tLoss: 0.005515\n",
            "Train Epoch: 6 [12800/60000 (21%)]\tLoss: 0.008825\n",
            "Train Epoch: 6 [19200/60000 (32%)]\tLoss: 0.016056\n",
            "Train Epoch: 6 [25600/60000 (43%)]\tLoss: 0.001556\n",
            "Train Epoch: 6 [32000/60000 (53%)]\tLoss: 0.112986\n",
            "Train Epoch: 6 [38400/60000 (64%)]\tLoss: 0.001657\n",
            "Train Epoch: 6 [44800/60000 (75%)]\tLoss: 0.034248\n",
            "Train Epoch: 6 [51200/60000 (85%)]\tLoss: 0.020872\n",
            "Train Epoch: 6 [57600/60000 (96%)]\tLoss: 0.018049\n",
            "Train Epoch: 7 [0/60000 (0%)]\tLoss: 0.016776\n",
            "Train Epoch: 7 [6400/60000 (11%)]\tLoss: 0.031558\n",
            "Train Epoch: 7 [12800/60000 (21%)]\tLoss: 0.008352\n",
            "Train Epoch: 7 [19200/60000 (32%)]\tLoss: 0.013456\n",
            "Train Epoch: 7 [25600/60000 (43%)]\tLoss: 0.005916\n",
            "Train Epoch: 7 [32000/60000 (53%)]\tLoss: 0.021272\n",
            "Train Epoch: 7 [38400/60000 (64%)]\tLoss: 0.035283\n",
            "Train Epoch: 7 [44800/60000 (75%)]\tLoss: 0.069784\n",
            "Train Epoch: 7 [51200/60000 (85%)]\tLoss: 0.004698\n",
            "Train Epoch: 7 [57600/60000 (96%)]\tLoss: 0.000661\n",
            "Train Epoch: 8 [0/60000 (0%)]\tLoss: 0.051987\n",
            "Train Epoch: 8 [6400/60000 (11%)]\tLoss: 0.074971\n",
            "Train Epoch: 8 [12800/60000 (21%)]\tLoss: 0.024293\n",
            "Train Epoch: 8 [19200/60000 (32%)]\tLoss: 0.014860\n",
            "Train Epoch: 8 [25600/60000 (43%)]\tLoss: 0.007809\n",
            "Train Epoch: 8 [32000/60000 (53%)]\tLoss: 0.008402\n",
            "Train Epoch: 8 [38400/60000 (64%)]\tLoss: 0.053915\n",
            "Train Epoch: 8 [44800/60000 (75%)]\tLoss: 0.004988\n",
            "Train Epoch: 8 [51200/60000 (85%)]\tLoss: 0.027465\n",
            "Train Epoch: 8 [57600/60000 (96%)]\tLoss: 0.006235\n",
            "Train Epoch: 9 [0/60000 (0%)]\tLoss: 0.055953\n",
            "Train Epoch: 9 [6400/60000 (11%)]\tLoss: 0.080273\n",
            "Train Epoch: 9 [12800/60000 (21%)]\tLoss: 0.011587\n",
            "Train Epoch: 9 [19200/60000 (32%)]\tLoss: 0.020720\n",
            "Train Epoch: 9 [25600/60000 (43%)]\tLoss: 0.066332\n",
            "Train Epoch: 9 [32000/60000 (53%)]\tLoss: 0.001539\n",
            "Train Epoch: 9 [38400/60000 (64%)]\tLoss: 0.075208\n",
            "Train Epoch: 9 [44800/60000 (75%)]\tLoss: 0.007221\n",
            "Train Epoch: 9 [51200/60000 (85%)]\tLoss: 0.002141\n",
            "Train Epoch: 9 [57600/60000 (96%)]\tLoss: 0.005519\n"
          ]
        }
      ]
    },
    {
      "cell_type": "code",
      "source": [
        "test(model, device, test_loader)"
      ],
      "metadata": {
        "colab": {
          "base_uri": "https://localhost:8080/"
        },
        "id": "giMBCU6nn7N8",
        "outputId": "c51fdea8-05c8-492e-d2ef-692a86eedeec"
      },
      "execution_count": 37,
      "outputs": [
        {
          "output_type": "stream",
          "name": "stdout",
          "text": [
            "\n",
            "Test set: Average loss: 0.0001, Accuracy: 9725/10000 (97%)\n",
            "\n"
          ]
        }
      ]
    },
    {
      "cell_type": "code",
      "source": [
        "def predict_and_display(model, device, data_loader, index=0):\n",
        "    model.eval()\n",
        "    with torch.no_grad():\n",
        "        data, target = next(iter(data_loader))\n",
        "        img, label = data[index], target[index]\n",
        "        img = img.to(device)\n",
        "\n",
        "        # Display the image\n",
        "        plt.imshow(img.cpu().squeeze(), cmap='gray')\n",
        "        plt.title(f'Actual Label: {label}')\n",
        "        plt.show()\n",
        "\n",
        "        # Model prediction\n",
        "        output = model(img.unsqueeze(0))\n",
        "        pred = output.argmax(dim=1, keepdim=True)\n",
        "        print(f'Predicted Label: {pred.item()}')"
      ],
      "metadata": {
        "id": "XxiDesnNpAYH"
      },
      "execution_count": 38,
      "outputs": []
    },
    {
      "cell_type": "code",
      "source": [
        "predict_and_display(model, device, test_loader, index=1)"
      ],
      "metadata": {
        "colab": {
          "base_uri": "https://localhost:8080/",
          "height": 469
        },
        "id": "ofwlQ-m2pFKK",
        "outputId": "f2547ee9-f2bd-4acf-df9b-ab5e5da8d1e1"
      },
      "execution_count": 39,
      "outputs": [
        {
          "output_type": "display_data",
          "data": {
            "text/plain": [
              "<Figure size 640x480 with 1 Axes>"
            ],
            "image/png": "[encoded data removed]"
          },
          "metadata": {}
        },
        {
          "output_type": "stream",
          "name": "stdout",
          "text": [
            "Predicted Label: 2\n"
          ]
        }
      ]
    },
    {
      "cell_type": "code",
      "source": [],
      "metadata": {
        "id": "zsgj2G76pGoW"
      },
      "execution_count": 39,
      "outputs": []
    }
  ]
}