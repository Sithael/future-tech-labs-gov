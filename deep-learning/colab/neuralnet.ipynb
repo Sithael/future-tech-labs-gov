{
  "nbformat": 4,
  "nbformat_minor": 0,
  "metadata": {
    "colab": {
      "provenance": []
    },
    "kernelspec": {
      "name": "python3",
      "display_name": "Python 3"
    },
    "language_info": {
      "name": "python"
    }
  },
  "cells": [
    {
      "cell_type": "code",
      "execution_count": 6,
      "metadata": {
        "id": "_Sfoy2ChpT6w"
      },
      "outputs": [],
      "source": [
        "# DO NOT MODIFY\n",
        "\n",
        "# ====================================\n",
        "#   SECTION 1: IMPORTS\n",
        "# ====================================\n",
        "\n",
        "import torch\n",
        "import torch.nn as nn\n",
        "import torch.optim as optim\n",
        "from torchvision import datasets, transforms\n",
        "from torch.utils.data import DataLoader\n",
        "\n",
        "import matplotlib.pyplot as plt"
      ]
    },
    {
      "cell_type": "code",
      "source": [
        "# DO NOT MODIFY\n",
        "\n",
        "# ====================================\n",
        "#   SECTION 2: LOADING DATA\n",
        "# ====================================\n",
        "\n",
        "transform = transforms.Compose([transforms.ToTensor(),\n",
        "                                transforms.Normalize((0.1307,), (0.3081,))])  # MNIST mean and std\n",
        "\n",
        "train_dataset = datasets.MNIST(root='./data', train=True, download=True, transform=transform)\n",
        "test_dataset = datasets.MNIST(root='./data', train=False, transform=transform)\n",
        "\n",
        "train_loader = DataLoader(train_dataset, batch_size=64, shuffle=True)\n",
        "test_loader = DataLoader(test_dataset, batch_size=1000, shuffle=False)"
      ],
      "metadata": {
        "id": "_tbaH5pFpfQ_"
      },
      "execution_count": 7,
      "outputs": []
    },
    {
      "cell_type": "code",
      "source": [
        "# TODO\n",
        "\n",
        "# ====================================\n",
        "#   SECTION 3: CREATE NEURAL NET\n",
        "# ====================================\n",
        "\n",
        "class MNISTNet(nn.Module):\n",
        "  pass"
      ],
      "metadata": {
        "id": "gY3zpZpFpkdC"
      },
      "execution_count": 8,
      "outputs": []
    },
    {
      "cell_type": "code",
      "source": [
        "# TODO\n",
        "\n",
        "# ====================================\n",
        "#   SECTION 4: CREATE OBJECTIVE\n",
        "# ====================================\n",
        "\n",
        "model = MNISTNet()\n",
        "criterion = None\n",
        "optimizer = None\n",
        "\n",
        "device = torch.device(\"cuda\" if torch.cuda.is_available() else \"cpu\")\n",
        "model.to(device)"
      ],
      "metadata": {
        "id": "6iuCiY3RptvE"
      },
      "execution_count": 9,
      "outputs": []
    },
    {
      "cell_type": "code",
      "source": [
        "# TODO\n",
        "\n",
        "# ====================================\n",
        "#   SECTION 5: HELPER FUNCTION - PREDICT\n",
        "# ====================================\n",
        "\n",
        "def predict_and_display(model, device, data_loader, index=0):\n",
        "    model.eval()\n",
        "    with torch.no_grad():\n",
        "        data, target = next(iter(data_loader))\n",
        "        img, label = data[index], target[index]\n",
        "        img = img.to(device)\n",
        "\n",
        "        # Display the image\n",
        "        plt.imshow(img.cpu().squeeze(), cmap='gray')\n",
        "        plt.title(f'Actual Label: {label}')\n",
        "        plt.show()\n",
        "\n",
        "        # Model prediction\n",
        "        output = model(img.unsqueeze(0))\n",
        "        pred = output.argmax(dim=1, keepdim=True)\n",
        "        print(f'Predicted Label: {pred.item()}')"
      ],
      "metadata": {
        "id": "qpzZBO96qAxJ"
      },
      "execution_count": 10,
      "outputs": []
    },
    {
      "cell_type": "code",
      "source": [
        "# TODO\n",
        "\n",
        "# ====================================\n",
        "#   SECTION 6: TRAIN MODEL\n",
        "# ====================================\n",
        "\n",
        "def train(model, device, train_loader, optimizer, epoch):\n",
        "  pass"
      ],
      "metadata": {
        "id": "EXJK2tbwqahX"
      },
      "execution_count": 16,
      "outputs": []
    },
    {
      "cell_type": "code",
      "source": [
        "# TODO\n",
        "\n",
        "# ====================================\n",
        "#   SECTION 7: TEST MODEL\n",
        "# ====================================\n",
        "\n",
        "def test(model, device, test_loader):\n",
        "  pass"
      ],
      "metadata": {
        "id": "bEXKws_qrGXa"
      },
      "execution_count": null,
      "outputs": []
    }
  ]
}